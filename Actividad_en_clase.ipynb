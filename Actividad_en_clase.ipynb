{
  "nbformat": 4,
  "nbformat_minor": 0,
  "metadata": {
    "colab": {
      "name": "Actividad en clase.ipynb",
      "provenance": []
    },
    "kernelspec": {
      "name": "python3",
      "display_name": "Python 3"
    },
    "language_info": {
      "name": "python"
    }
  },
  "cells": [
    {
      "cell_type": "markdown",
      "source": [
        "1"
      ],
      "metadata": {
        "id": "VEo2OMcjlEW_"
      }
    },
    {
      "cell_type": "code",
      "source": [
        "\n",
        "print(\"División\")\n",
        "num1 = int(input(\"Escriba el primer número: \"))\n",
        "num2 = int(input(\"Escriba el segundo número: \"))\n",
        "if num2 == 0:\n",
        "  print(\"No se puede dividir por cero.\")\n",
        "else:\n",
        "  cociente = num1 // num2\n",
        "  resto = num1 % num2\n",
        "if resto == 0:\n",
        "  print(\"La división es exacta. Cociente: \",cociente)\n",
        "else:\n",
        "  print(\"La división no es exacta. Cociente: \", cociente, \"Resto: \",resto)"
      ],
      "metadata": {
        "colab": {
          "base_uri": "https://localhost:8080/"
        },
        "id": "X9HXetyZpdb2",
        "outputId": "2f85a1de-152d-4655-a1ce-54ecaf1976c4"
      },
      "execution_count": 78,
      "outputs": [
        {
          "output_type": "stream",
          "name": "stdout",
          "text": [
            "División\n",
            "Escriba el primer número: 10\n",
            "Escriba el segundo número: 8\n",
            "La división no es exacta. Cociente:  1 Resto:  2\n"
          ]
        }
      ]
    },
    {
      "cell_type": "markdown",
      "source": [
        "2"
      ],
      "metadata": {
        "id": "IJpYtlI0nR7f"
      }
    },
    {
      "cell_type": "code",
      "source": [
        "num1 = int(input(\"Ingresa el primer número: \"))\n",
        "num2 = int(input(\"Ingresa el segundo número: \"))\n",
        "if num1 % num2 == 0:\n",
        "  print(\"El número\" ,num1,  \"es múltiplo del número\",num2)\n",
        "elif  num2 % num1 == 0:\n",
        "  print(\"El número\" ,num2,  \"es múltiplo del número\",num1)\n",
        "else:\n",
        "  print(\"Los números no son multiplos\")"
      ],
      "metadata": {
        "colab": {
          "base_uri": "https://localhost:8080/"
        },
        "id": "dnDpmBYwpzPW",
        "outputId": "81f4cb5b-f2fa-43ae-dc79-b29fbcb3db68"
      },
      "execution_count": 74,
      "outputs": [
        {
          "output_type": "stream",
          "name": "stdout",
          "text": [
            "Ingresa el primer número: 22\n",
            "Ingresa el segundo número: 60\n",
            "Los números no son multiplos\n"
          ]
        }
      ]
    },
    {
      "cell_type": "markdown",
      "source": [
        "3"
      ],
      "metadata": {
        "id": "INai0U9CujDP"
      }
    },
    {
      "cell_type": "code",
      "source": [
        "print(\"Comparar edades\")\n",
        "edad1 = int(input(\"Escriba la primer edad: \"))\n",
        "edad2 = int(input(\"Escriba la segunda edad: \"))\n",
        "edad3 = int(input(\"Escriba la tercera edad: \"))\n",
        "if edad1 > edad2 > edad3:\n",
        "  print(f\"Menor: {edad3} Medio: {edad2} Mayor: {edad1}\")\n",
        "elif edad2 > edad3 > edad1:\n",
        "  print(f\"Menor: {edad1} Medio: {edad3} Mayor: {edad2}\")\n",
        "elif edad3 > edad1 > edad2:\n",
        "  print(f\"Menor: {edad2} Medio: {edad1} Mayor: {edad3}\")\n",
        "elif edad1 < edad2 < edad3:\n",
        "  print(f\"Menor: {edad1} Medio: {edad2} Mayor: {edad3}\")\n",
        "elif edad2 < edad3 < edad1:\n",
        "  print(f\"Menor: {edad2} Medio: {edad3} Mayor: {edad1}\")\n",
        "elif edad3 < edad1 < edad2:\n",
        "  print(f\"Menor: {edad3} Medio: {edad1} Mayor: {edad2}\")\n",
        "elif edad1 == edad2 == edad3:\n",
        "  print(\"Nacieron el mismo año\")\n",
        "else:\n",
        "  print(\"Los dos números son iguales.\")"
      ],
      "metadata": {
        "colab": {
          "base_uri": "https://localhost:8080/"
        },
        "id": "zyeHB4Uvujxv",
        "outputId": "d3bf6e9c-0dc9-4551-e2c8-228d444641c3"
      },
      "execution_count": 95,
      "outputs": [
        {
          "output_type": "stream",
          "name": "stdout",
          "text": [
            "Comparar edades\n",
            "Escriba la primer edad: 5\n",
            "Escriba la segunda edad: 5\n",
            "Escriba la tercera edad: 5\n",
            "Nacieron el mismo año\n"
          ]
        }
      ]
    },
    {
      "cell_type": "markdown",
      "source": [
        "4 4.\tDIAN le ha contratado para identificar si una persona debe pagar impuesto de renta o no. ¿Qué datos debería suministrar? Escriba un programa con su solución."
      ],
      "metadata": {
        "id": "X854ClEQyW7E"
      }
    },
    {
      "cell_type": "code",
      "source": [
        "sal = int(input(\"ingrese sus ingresos anuales: $\"))"
      ],
      "metadata": {
        "colab": {
          "base_uri": "https://localhost:8080/"
        },
        "id": "FoezzFIlyaPs",
        "outputId": "d5bedb54-3cd6-4b66-c18a-01a99cd7741a"
      },
      "execution_count": 93,
      "outputs": [
        {
          "name": "stdout",
          "output_type": "stream",
          "text": [
            "ingrese su ingresos mensuales: $445554\n"
          ]
        }
      ]
    },
    {
      "cell_type": "markdown",
      "source": [
        "5"
      ],
      "metadata": {
        "id": "f9XbStrozjaQ"
      }
    },
    {
      "cell_type": "code",
      "source": [
        ""
      ],
      "metadata": {
        "id": "2udqqhX4zkOI"
      },
      "execution_count": null,
      "outputs": []
    }
  ]
}