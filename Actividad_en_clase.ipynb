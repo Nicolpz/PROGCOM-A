{
  "nbformat": 4,
  "nbformat_minor": 0,
  "metadata": {
    "colab": {
      "name": "Actividad en clase.ipynb",
      "provenance": []
    },
    "kernelspec": {
      "name": "python3",
      "display_name": "Python 3"
    },
    "language_info": {
      "name": "python"
    }
  },
  "cells": [
    {
      "cell_type": "markdown",
      "source": [
        "1"
      ],
      "metadata": {
        "id": "VEo2OMcjlEW_"
      }
    },
    {
      "cell_type": "code",
      "source": [
        "\n",
        "print(\"División\")\n",
        "num1 = int(input(\"Escriba el primer número: \"))\n",
        "num2 = int(input(\"Escriba el segundo número: \"))\n",
        "if num2 == 0:\n",
        "  print(\"No se puede dividir por cero.\")\n",
        "else:\n",
        "  cociente = num1 // num2\n",
        "  resto = num1 % num2\n",
        "if resto == 0:\n",
        "  print(\"La división es exacta. Cociente: \",cociente)\n",
        "else:\n",
        "  print(\"La división no es exacta. Cociente: \", cociente, \"Resto: \",resto)"
      ],
      "metadata": {
        "colab": {
          "base_uri": "https://localhost:8080/"
        },
        "id": "X9HXetyZpdb2",
        "outputId": "2f85a1de-152d-4655-a1ce-54ecaf1976c4"
      },
      "execution_count": null,
      "outputs": [
        {
          "output_type": "stream",
          "name": "stdout",
          "text": [
            "División\n",
            "Escriba el primer número: 10\n",
            "Escriba el segundo número: 8\n",
            "La división no es exacta. Cociente:  1 Resto:  2\n"
          ]
        }
      ]
    },
    {
      "cell_type": "markdown",
      "source": [
        "2"
      ],
      "metadata": {
        "id": "IJpYtlI0nR7f"
      }
    },
    {
      "cell_type": "code",
      "source": [
        "num1 = int(input(\"Ingresa el primer número: \"))\n",
        "num2 = int(input(\"Ingresa el segundo número: \"))\n",
        "if num1 % num2 == 0:\n",
        "  print(\"El número\" ,num1,  \"es múltiplo del número\",num2)\n",
        "elif  num2 % num1 == 0:\n",
        "  print(\"El número\" ,num2,  \"es múltiplo del número\",num1)\n",
        "else:\n",
        "  print(\"Los números no son multiplos\")"
      ],
      "metadata": {
        "colab": {
          "base_uri": "https://localhost:8080/"
        },
        "id": "dnDpmBYwpzPW",
        "outputId": "81f4cb5b-f2fa-43ae-dc79-b29fbcb3db68"
      },
      "execution_count": null,
      "outputs": [
        {
          "output_type": "stream",
          "name": "stdout",
          "text": [
            "Ingresa el primer número: 22\n",
            "Ingresa el segundo número: 60\n",
            "Los números no son multiplos\n"
          ]
        }
      ]
    },
    {
      "cell_type": "markdown",
      "source": [
        "3"
      ],
      "metadata": {
        "id": "INai0U9CujDP"
      }
    },
    {
      "cell_type": "code",
      "source": [
        "print(\"Comparar edades\")\n",
        "edad1 = int(input(\"Escriba la primer edad: \"))\n",
        "edad2 = int(input(\"Escriba la segunda edad: \"))\n",
        "edad3 = int(input(\"Escriba la tercera edad: \"))\n",
        "if edad1 > edad2 > edad3:\n",
        "  print(f\"Menor: {edad3} Medio: {edad2} Mayor: {edad1}\")\n",
        "elif edad2 > edad3 > edad1:\n",
        "  print(f\"Menor: {edad1} Medio: {edad3} Mayor: {edad2}\")\n",
        "elif edad3 > edad1 > edad2:\n",
        "  print(f\"Menor: {edad2} Medio: {edad1} Mayor: {edad3}\")\n",
        "elif edad1 < edad2 < edad3:\n",
        "  print(f\"Menor: {edad1} Medio: {edad2} Mayor: {edad3}\")\n",
        "elif edad2 < edad3 < edad1:\n",
        "  print(f\"Menor: {edad2} Medio: {edad3} Mayor: {edad1}\")\n",
        "elif edad3 < edad1 < edad2:\n",
        "  print(f\"Menor: {edad3} Medio: {edad1} Mayor: {edad2}\")\n",
        "elif edad1 == edad2 == edad3:\n",
        "  print(\"Nacieron el mismo año\")\n",
        "else:\n",
        "  print(\"Los dos números son iguales.\")"
      ],
      "metadata": {
        "colab": {
          "base_uri": "https://localhost:8080/"
        },
        "id": "zyeHB4Uvujxv",
        "outputId": "d3bf6e9c-0dc9-4551-e2c8-228d444641c3"
      },
      "execution_count": null,
      "outputs": [
        {
          "output_type": "stream",
          "name": "stdout",
          "text": [
            "Comparar edades\n",
            "Escriba la primer edad: 5\n",
            "Escriba la segunda edad: 5\n",
            "Escriba la tercera edad: 5\n",
            "Nacieron el mismo año\n"
          ]
        }
      ]
    },
    {
      "cell_type": "markdown",
      "source": [
        "4 "
      ],
      "metadata": {
        "id": "X854ClEQyW7E"
      }
    },
    {
      "cell_type": "code",
      "source": [
        "sal = int(input(\"ingrese sus ingresos anuales: $\"))"
      ],
      "metadata": {
        "colab": {
          "base_uri": "https://localhost:8080/"
        },
        "id": "FoezzFIlyaPs",
        "outputId": "d5bedb54-3cd6-4b66-c18a-01a99cd7741a"
      },
      "execution_count": null,
      "outputs": [
        {
          "name": "stdout",
          "output_type": "stream",
          "text": [
            "ingrese su ingresos mensuales: $445554\n"
          ]
        }
      ]
    },
    {
      "cell_type": "markdown",
      "source": [
        "5"
      ],
      "metadata": {
        "id": "kH3ZcH9HM0fw"
      }
    },
    {
      "cell_type": "code",
      "source": [
        "cod = int(input(\"ingrese su código de estudiante: \"))\n",
        "if cod = U******** :\n",
        "  print (\"unab\")"
      ],
      "metadata": {
        "id": "Gy2EOiSiM1TR"
      },
      "execution_count": null,
      "outputs": []
    },
    {
      "cell_type": "markdown",
      "source": [
        "6"
      ],
      "metadata": {
        "id": "Q1NFTH82NZaP"
      }
    },
    {
      "cell_type": "code",
      "source": [
        "nota1 = float(input(\"ingrese su primer nota: \"))\n",
        "nota2 = float(input(\"ingrese su segunda nota: \"))\n",
        "nota3 = float(input(\"ingrese su tercer nota: \"))\n",
        "nota4 = float(input(\"ingrese su cuarta nota: \"))\n",
        "prom = (nota1+nota2+nota3+nota4)/4\n",
        "print(\"su promedio fue de \",prom)\n",
        "if prom >= 4.5:\n",
        "  print (\"ud se encuentra eximido del último examen\")\n",
        "elif prom >= 3.5 and prom < 4.5:\n",
        "  print (\"debe presentar examen\")\n",
        "elif prom >= 3 and prom < 3.5:\n",
        "  print (\"debe presentar un examen y un trabajo adicional\")\n",
        "elif prom >= 2 and prom < 3:\n",
        "  print (\"debe presentar habilitación\")\n",
        "elif prom < 2:\n",
        "  print (\"perdió la materia irremediablemente\")\n",
        "#< >"
      ],
      "metadata": {
        "colab": {
          "base_uri": "https://localhost:8080/"
        },
        "id": "jpjwUhAVNaP6",
        "outputId": "de9538eb-43fa-4c20-e74d-0a31ccd59edf"
      },
      "execution_count": 24,
      "outputs": [
        {
          "output_type": "stream",
          "name": "stdout",
          "text": [
            "ingrese su primer nota: 1\n",
            "ingrese su segunda nota: 1\n",
            "ingrese su tercer nota: 1\n",
            "ingrese su cuarta nota: 1\n",
            "su promedio fue de  1.0\n",
            "perdió la materia irremediablemente\n"
          ]
        }
      ]
    },
    {
      "cell_type": "markdown",
      "source": [
        "7"
      ],
      "metadata": {
        "id": "VcoXrImYm-jz"
      }
    },
    {
      "cell_type": "code",
      "source": [
        "cumple  = input (\"ingrese la fecha de nacimiento en formato dd/mm/aaaa: \")\n",
        "fecha = input (\"ingrese la fecha actual en formato dd/mm/aaaa: \")\n",
        "\n",
        "dia = cumple[:cumple.find('/')]\n",
        "mesaño = cumple[cumple.find('/')+1:]\n",
        "mes = mesaño[:mesaño.find('/')]\n",
        "año = mesaño[mesaño.find('/')+1:]\n",
        "\n",
        "dia2 = fecha[:fecha.find('/')]\n",
        "mesaño2 = fecha[fecha.find('/')+1:]\n",
        "mes2 = mesaño[:mesaño.find('/')]\n",
        "año2 = mesaño[mesaño.find('/')+1:]\n",
        "\n",
        "print(\"dia: \" + dia)\n",
        "print(\"mes: \" + mes)\n",
        "print(\"año: \" + año)\n",
        "print(\" \")\n",
        "print(\"dia: \" + dia2)\n",
        "print(\"mes: \" + mes2)\n",
        "print(\"año: \" + año2)\n",
        "\n",
        "\n",
        "\n"
      ],
      "metadata": {
        "id": "LU40BhxuP71M",
        "colab": {
          "base_uri": "https://localhost:8080/"
        },
        "outputId": "b79f811e-14d9-4836-c285-1cbaebc95e0c"
      },
      "execution_count": 33,
      "outputs": [
        {
          "output_type": "stream",
          "name": "stdout",
          "text": [
            "ingrese la fecha de nacimiento en formato dd/mm/aaaa: 13/08/2003\n",
            "ingrese la fecha actual en formato dd/mm/aaaa: 15/08/2022\n",
            "dia: 13\n",
            "mes: 08\n",
            "año: 2003\n",
            " \n",
            "dia: 15\n",
            "mes: 08\n",
            "año: 2003\n",
            "2\n"
          ]
        }
      ]
    },
    {
      "cell_type": "markdown",
      "source": [
        "8"
      ],
      "metadata": {
        "id": "J4tuGZB9s92W"
      }
    },
    {
      "cell_type": "code",
      "source": [
        "año= int(input(\"ingrese el año: \")) \n",
        "\n",
        "if not año % 4:\n",
        "\tif not año % 100:     \n",
        "\t\tif not año % 400:  \n",
        "\t\t\tprint(\"Es bisiesto\")\n",
        "\t\telse:              \n",
        "\t\t\tprint(\"No es bisiesto\")\n",
        "\telse:                 \n",
        "\t\tprint(\"Es bisiesto\")\n",
        "else:                    \n",
        "\tprint(\"No es bisiesto\")"
      ],
      "metadata": {
        "colab": {
          "base_uri": "https://localhost:8080/"
        },
        "id": "Ot27ZfYIs-gF",
        "outputId": "9f181643-1dea-4cc1-fc60-ba740b893259"
      },
      "execution_count": 41,
      "outputs": [
        {
          "output_type": "stream",
          "name": "stdout",
          "text": [
            "ingrese el año: 2020\n",
            "Es bisiesto\n"
          ]
        }
      ]
    },
    {
      "cell_type": "markdown",
      "source": [
        "9 "
      ],
      "metadata": {
        "id": "oWXWiwUEtwe9"
      }
    },
    {
      "cell_type": "code",
      "source": [
        "#print 'Escriba el valor de a:'\n",
        "a=int(input(\"ingrese el valor de a: \"))\n",
        "#print 'Escriba el valor de b: '\n",
        "b=int(input(\"ingrese el valor de b: \"))\n",
        "if a==0 and b!=0:\n",
        "    print (\"La ecuacion no tiene solucion\")\n",
        "elif a==0 and b==0:\n",
        "    print ('no hay solucion única')\n",
        "else:\n",
        "    incognita=-b/a\n",
        "    print (\"El valor de x= %s\" % str(incognita))"
      ],
      "metadata": {
        "colab": {
          "base_uri": "https://localhost:8080/"
        },
        "id": "_dUdF1tftxfa",
        "outputId": "9040d8fd-baad-4c0b-fcec-76c83b86ef3d"
      },
      "execution_count": 46,
      "outputs": [
        {
          "output_type": "stream",
          "name": "stdout",
          "text": [
            "ingrese el valor de a: 0\n",
            "ingrese el valor de b: 0\n",
            "no hay solucion única\n"
          ]
        }
      ]
    },
    {
      "cell_type": "markdown",
      "source": [
        "10"
      ],
      "metadata": {
        "id": "_Ybln-Xxv6u1"
      }
    },
    {
      "cell_type": "code",
      "source": [
        "x1 = int(input(\"ingresa el valor de x1: \"))\n",
        "y1 = int(input(\"ingresa el valor de y1: \"))\n",
        "x2 = int(input(\"ingresa el valor de x2: \"))\n",
        "y2 = int(input(\"ingresa el valor de y2: \"))\n",
        "x = (y2 - y1) / (x2 - x1)\n",
        "print(x)"
      ],
      "metadata": {
        "colab": {
          "base_uri": "https://localhost:8080/"
        },
        "id": "C9vaXB4pv7jf",
        "outputId": "185e48e0-8266-42c3-bc0b-edb60d077c96"
      },
      "execution_count": 61,
      "outputs": [
        {
          "output_type": "stream",
          "name": "stdout",
          "text": [
            "ingresa el valor de x1: 4\n",
            "ingresa el valor de y1: 5\n",
            "ingresa el valor de x2: 8\n",
            "ingresa el valor de y2: 10\n",
            "1.25\n"
          ]
        }
      ]
    },
    {
      "cell_type": "markdown",
      "source": [
        "11"
      ],
      "metadata": {
        "id": "sbjPDrC25GjX"
      }
    },
    {
      "cell_type": "code",
      "source": [
        "a = float(input(\"Escriba el valor del coeficiente a: \"))\n",
        "b = float(input(\"Escriba el valor del coeficiente b: \"))\n",
        "c = float(input(\"Escriba el valor del coeficiente c: \"))\n",
        "\n",
        "d = b * b - 4 * a * c\n",
        "if a == b == c == 0:\n",
        "  print(\"Todos los números son solución.\")\n",
        "elif a == b == 0:\n",
        "  print(\"La ecuación no tiene solución.\")\n",
        "elif a == 0:\n",
        "  print(f\"La ecuación tiene una solución: {- c / b}\")\n",
        "elif d < 0:\n",
        "  print(\"La ecuación no tiene solución real.\")\n",
        "elif d == 0:\n",
        "  print(f\"La ecuación tiene una solución: {- b / (2 * a)}\")\n",
        "else:\n",
        "  print(f\"La ecuación tiene dos soluciones: {(-b - d ** 0.5) / (2 * a)} y {(-b + d ** 0.5) / (2 * a)}\")"
      ],
      "metadata": {
        "colab": {
          "base_uri": "https://localhost:8080/"
        },
        "id": "sOd-DpHL5FgK",
        "outputId": "b8fa333f-3c3b-43a6-ef19-bd1b3bbcc202"
      },
      "execution_count": 77,
      "outputs": [
        {
          "output_type": "stream",
          "name": "stdout",
          "text": [
            "Escriba el valor del coeficiente a: 1\n",
            "Escriba el valor del coeficiente b: 2\n",
            "Escriba el valor del coeficiente c: 1\n",
            "La ecuación tiene una solución: -1.0\n"
          ]
        }
      ]
    },
    {
      "cell_type": "markdown",
      "source": [
        "12"
      ],
      "metadata": {
        "id": "IqyzgOKt7Ivf"
      }
    },
    {
      "cell_type": "code",
      "source": [
        ""
      ],
      "metadata": {
        "id": "50iKRKrL7JWh"
      },
      "execution_count": null,
      "outputs": []
    },
    {
      "cell_type": "markdown",
      "source": [
        "13"
      ],
      "metadata": {
        "id": "1RhWXB637TbL"
      }
    },
    {
      "cell_type": "code",
      "source": [
        "centimetros = int(input(\"Escriba una distancia en centímetros: \"))\n",
        "if centimetros <= 0:\n",
        "  print(\"Escriba una distancia mayor que cero.\")\n",
        "else:\n",
        "  kilometros = centimetros // 100_000\n",
        "  metros = centimetros % 100_000 // 100\n",
        "  resto = centimetros % 100\n",
        "\n",
        "print(f\"{centimetros} centímetros son {kilometros} km {metros} m {resto} cm.\")"
      ],
      "metadata": {
        "colab": {
          "base_uri": "https://localhost:8080/"
        },
        "id": "eiuoSQlG7UBr",
        "outputId": "9173ca08-97fb-42da-9b71-bf946d96be54"
      },
      "execution_count": 80,
      "outputs": [
        {
          "output_type": "stream",
          "name": "stdout",
          "text": [
            "Escriba una distancia en centímetros: 577539\n",
            "577539 centímetros son 5 km 775 m 39 cm.\n"
          ]
        }
      ]
    },
    {
      "cell_type": "markdown",
      "source": [
        "14"
      ],
      "metadata": {
        "id": "Z1JMw6qt7rK7"
      }
    },
    {
      "cell_type": "code",
      "source": [
        ""
      ],
      "metadata": {
        "id": "mHFbgKZj7r7v"
      },
      "execution_count": null,
      "outputs": []
    },
    {
      "cell_type": "markdown",
      "source": [
        "15"
      ],
      "metadata": {
        "id": "4PmOe6tE7sNh"
      }
    },
    {
      "cell_type": "code",
      "source": [
        ""
      ],
      "metadata": {
        "id": "PDjloYDL7tD1"
      },
      "execution_count": null,
      "outputs": []
    },
    {
      "cell_type": "markdown",
      "source": [
        "16"
      ],
      "metadata": {
        "id": "VwOjxRjQ7tXV"
      }
    },
    {
      "cell_type": "code",
      "source": [
        ""
      ],
      "metadata": {
        "id": "TXZgF3Tr7uAt"
      },
      "execution_count": null,
      "outputs": []
    },
    {
      "cell_type": "markdown",
      "source": [
        "17"
      ],
      "metadata": {
        "id": "NpAvfujU7uiv"
      }
    },
    {
      "cell_type": "code",
      "source": [
        ""
      ],
      "metadata": {
        "id": "Ffco0XU77vK7"
      },
      "execution_count": null,
      "outputs": []
    },
    {
      "cell_type": "markdown",
      "source": [
        "18"
      ],
      "metadata": {
        "id": "2Cq4YOUa7vko"
      }
    },
    {
      "cell_type": "code",
      "source": [
        ""
      ],
      "metadata": {
        "id": "WasuO0ec7wRR"
      },
      "execution_count": null,
      "outputs": []
    },
    {
      "cell_type": "markdown",
      "source": [
        "19"
      ],
      "metadata": {
        "id": "VXixwcxu7wih"
      }
    },
    {
      "cell_type": "code",
      "source": [
        ""
      ],
      "metadata": {
        "id": "t8zgtVrs7xTp"
      },
      "execution_count": null,
      "outputs": []
    },
    {
      "cell_type": "markdown",
      "source": [
        "20"
      ],
      "metadata": {
        "id": "TdR-drEd7xhc"
      }
    },
    {
      "cell_type": "code",
      "source": [
        ""
      ],
      "metadata": {
        "id": "XjyfDZtT7y36"
      },
      "execution_count": null,
      "outputs": []
    }
  ]
}