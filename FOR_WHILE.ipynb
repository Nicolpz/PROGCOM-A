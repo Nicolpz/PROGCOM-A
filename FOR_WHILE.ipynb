{
  "nbformat": 4,
  "nbformat_minor": 0,
  "metadata": {
    "colab": {
      "name": "FOR/WHILE.ipynb",
      "provenance": []
    },
    "kernelspec": {
      "name": "python3",
      "display_name": "Python 3"
    },
    "language_info": {
      "name": "python"
    }
  },
  "cells": [
    {
      "cell_type": "markdown",
      "source": [
        "#1"
      ],
      "metadata": {
        "id": "xBT1PgkamCRe"
      }
    },
    {
      "cell_type": "code",
      "execution_count": null,
      "metadata": {
        "id": "4ZHXK4CVlYTe"
      },
      "outputs": [],
      "source": [
        "x = int(input(\"ingrese un número entero mayor que 1: \"))\n",
        "if x <= 1:\n",
        "    print(\"¡Le he pedido un número entero mayor que 1!\")\n",
        "else:\n",
        "    y = 0\n",
        "    for i in range(1, x + 1):\n",
        "        if x % i == 0:\n",
        "            y = y + 1\n",
        "    if y == 2:\n",
        "        print(f\"{x} es primo.\")\n",
        "    else:\n",
        "        print(f\"{x} no es primo.\")"
      ]
    },
    {
      "cell_type": "markdown",
      "source": [
        "#2"
      ],
      "metadata": {
        "id": "TzRMEx_CpCxQ"
      }
    },
    {
      "cell_type": "code",
      "source": [
        "x=int(input(\"cantidad de numeros en la secuencia: \"))\n",
        "a=1\n",
        "b=1\n",
        "if x==1:\n",
        "  print(\"0\")\n",
        "elif x==2:\n",
        "  print(\"0\")\n",
        "  print(\"1\")\n",
        "else:\n",
        "  print(\"0\")\n",
        "  print(a)\n",
        "  print(b)\n",
        "for i in range(x-3):\n",
        "  total = a + b\n",
        "  b=a\n",
        "  a= total\n",
        "  print(total)\n",
        "  "
      ],
      "metadata": {
        "id": "xnzXESvjpDeh"
      },
      "execution_count": null,
      "outputs": []
    },
    {
      "cell_type": "code",
      "source": [
        "def x(n):\n",
        "    a=1\n",
        "    b=1\n",
        "    while a < n:\n",
        "        print(a)\n",
        "        a, b = b, a + b\n",
        "m = int(input(\"Ingresa número máximo: \"))     \n",
        "x(m)"
      ],
      "metadata": {
        "id": "McWXEaalr91j"
      },
      "execution_count": null,
      "outputs": []
    },
    {
      "cell_type": "markdown",
      "source": [
        "#3"
      ],
      "metadata": {
        "id": "SJhglnu2rWt2"
      }
    },
    {
      "cell_type": "code",
      "source": [
        "y=1\n",
        "x=int(input(\"ingresa un número: \"))\n",
        "for i in range (1,x+1):\n",
        "    y=y*i\n",
        "print(\"su factorial es: \",y)"
      ],
      "metadata": {
        "id": "MjB_Ty7Xt0xn"
      },
      "execution_count": null,
      "outputs": []
    },
    {
      "cell_type": "code",
      "source": [
        "y = input(\"ingresa un número: \")\n",
        "x = int(y)\n",
        "w = 1\n",
        "z = 1\n",
        "while z <= x:\n",
        "    w = w * z\n",
        "    z = z + 1\n",
        "print(\"su factorial es: \",w)"
      ],
      "metadata": {
        "id": "aXQX39j7umuO"
      },
      "execution_count": null,
      "outputs": []
    },
    {
      "cell_type": "markdown",
      "source": [
        "#4"
      ],
      "metadata": {
        "id": "iziqJ4QvwgPu"
      }
    },
    {
      "cell_type": "code",
      "source": [
        "\n"
      ],
      "metadata": {
        "id": "WmOqx1mBwheF"
      },
      "execution_count": null,
      "outputs": []
    }
  ]
}