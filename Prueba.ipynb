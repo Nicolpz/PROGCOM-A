{
  "nbformat": 4,
  "nbformat_minor": 0,
  "metadata": {
    "colab": {
      "provenance": []
    },
    "kernelspec": {
      "name": "python3",
      "display_name": "Python 3"
    },
    "language_info": {
      "name": "python"
    }
  },
  "cells": [
    {
      "cell_type": "code",
      "source": [
        "cesta = {}\n",
        "continuar = True\n",
        "while continuar:\n",
        "    item = input(\"Introduce un artículo: \")\n",
        "    #cantidad = float(input(\"Introduce la cantidad de articulos: \"))\n",
        "    precio = float(input(\"Introduce el precio de \" + item + \": \"))\n",
        "    cesta[item] = precio\n",
        "    continuar = input(\"¿Quieres añadir artículos a la lista (Si/No)? \") == \"Si\"\n",
        "coste = 0\n",
        "print(\"Lista de la compra\")\n",
        "for item, precio in cesta.items():\n",
        "    print(item, precio)\n",
        "    coste += precio\n",
        "print(\"Coste total: \", coste)"
      ],
      "metadata": {
        "id": "bIeFiVVk470k"
      },
      "execution_count": null,
      "outputs": []
    },
    {
      "cell_type": "code",
      "source": [
        "menu={\"Combo 1\":20000,\n",
        "      \"Combo 2\":25000,\n",
        "      \"Combo 3\":18000,\n",
        "      \"Combo 4\":24500,\n",
        "      \"Papas\":3000,\n",
        "      \"Jugos naturales\":7000,\n",
        "      \"Cerveza\":3500,\n",
        "      \"Agua\":4000,\n",
        "      \"Gaseosas\":2500}\n",
        "print(menu)"
      ],
      "metadata": {
        "id": "m0YJOT9W98e4"
      },
      "execution_count": null,
      "outputs": []
    }
  ]
}