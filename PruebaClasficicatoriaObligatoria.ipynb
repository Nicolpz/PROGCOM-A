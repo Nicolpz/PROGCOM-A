{
  "nbformat": 4,
  "nbformat_minor": 0,
  "metadata": {
    "colab": {
      "provenance": [],
      "collapsed_sections": []
    },
    "kernelspec": {
      "name": "python3",
      "display_name": "Python 3"
    },
    "language_info": {
      "name": "python"
    }
  },
  "cells": [
    {
      "cell_type": "code",
      "source": [
        "estsal1=int(input(\"Número de estudiantes del curso 1: \"))\n",
        "sal1=[]\n",
        "not1=[]\n",
        "for i in range (0,estsal1):\n",
        "  est1=input(\"Nombre del estudiante: \")\n",
        "  promest1=float(input(\"Promedio del estudiante: \"))\n",
        "  sal1.append(est1)\n",
        "  not1.append(promest1)\n",
        "promnota1=sum(not1)\n",
        "\n",
        "estsal2=int(input(\"Número de estudiantes del curso 2: \"))\n",
        "sal2=[]\n",
        "not2=[]\n",
        "for i in range (0,estsal2):\n",
        "  est2=input(\"Nombre del estudiante: \")\n",
        "  promest2=float(input(\"Promedio del estudiante: \"))\n",
        "  sal2.append(est2)\n",
        "  not2.append(promest2)\n",
        "promnota2=sum(not2)\n",
        "\n",
        "estsal3=int(input(\"Número de estudiantes del curso 3: \"))\n",
        "sal3=[]\n",
        "not3=[]\n",
        "for i in range (0,estsal3):\n",
        "  est3=input(\"Nombre del estudiante: \")\n",
        "  promest3=float(input(\"Promedio del estudiante: \"))\n",
        "  sal3.append(est3)\n",
        "  not3.append(promest3)\n",
        "promnota3=sum(not3)\n",
        "\n",
        "prototal=(promnota1+promnota2+promnota3)\n",
        "prom1=(promnota1/estsal1)\n",
        "prom2=(promnota2/estsal2)\n",
        "prom3=(promnota3/estsal3)\n",
        "\n",
        "promtotal=(prototal/(estsal1+estsal2+estsal3))\n",
        "print(\"El promedio del grupo 1 es \",prom1)\n",
        "print(\"El promedio del grupo 2 es \",prom2)\n",
        "print(\"El promedio del grupo 3 es \",prom3)\n",
        "print(\"El promedio de todos los grupos es \",promtotal)"
      ],
      "metadata": {
        "id": "iRcoUV61Gw_B"
      },
      "execution_count": null,
      "outputs": []
    }
  ]
}