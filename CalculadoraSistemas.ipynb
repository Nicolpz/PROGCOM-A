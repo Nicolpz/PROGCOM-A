{
  "nbformat": 4,
  "nbformat_minor": 0,
  "metadata": {
    "colab": {
      "provenance": [],
      "collapsed_sections": []
    },
    "kernelspec": {
      "name": "python3",
      "display_name": "Python 3"
    },
    "language_info": {
      "name": "python"
    }
  },
  "cells": [
    {
      "cell_type": "code",
      "execution_count": null,
      "metadata": {
        "id": "-lm-rNHaLDIo"
      },
      "outputs": [],
      "source": [
        "import math\n",
        "print(\"Operaciones matematicas sencillas\")\n",
        "print(\"1) Suma\", \"2) Resta\", \"3) Multiplicación\", \"4) División\", \"5) Potencias\", \"6) Logaritmo Natural\", \"7) Sen(X)\", \"8) Cos(X)\", \"9) Tan(X)\", \"10) Radicando\", sep=\"\\n\")\n",
        "B=int(input(\"Ingresa la operación a ejecutar: \"))\n",
        "\n",
        "if B==1:\n",
        " D=int(input(\"Ingresa el primer número a sumar: \"))\n",
        " S=int(input(\"Ingresa el segundo número a sumar: \"))\n",
        " K= D+S\n",
        " print(K)\n",
        "elif B==2:\n",
        " D=int(input(\"Ingresa el primer número a restar: \"))\n",
        " S=int(input(\"Ingresa el segundo número a restar: \"))\n",
        " K= D-S\n",
        " print(K)\n",
        "elif B==3:\n",
        " D=int(input(\"Ingresa el primer número a multiplicar: \"))\n",
        " S=int(input(\"Ingresa el segundo número a multiplicar: \"))\n",
        " K= D*S\n",
        " print(K)\n",
        "elif B==4:\n",
        " D=int(input(\"Ingresa el primer número a dividir: \"))\n",
        " S=int(input(\"Ingresa el segundo número a dividir: \"))\n",
        " K= D/S\n",
        " print(K)\n",
        "elif B==5:\n",
        " D=int(input(\"Ingresa el primer número (Número que se va a elevar): \"))\n",
        " S=int(input(\"Ingresa el segundo número (Potencia del primer número): \"))\n",
        " K= D**S\n",
        " print(K)\n",
        "elif B==6:\n",
        " D=int(input(\"Ingresa el número para hallar su ln: \"))\n",
        " K=math.log(D)\n",
        " print(K)\n",
        "elif B==7:\n",
        " D=int(input(\"Ingresa el número para hallar su seno: \"))\n",
        " D=D*math.pi/180\n",
        " K=(math.sin(D))\n",
        " print(K)\n",
        "elif B==8:\n",
        " D=int(input(\"Ingresa el número para hallar su coseno: \"))\n",
        " \n",
        " D=D*math.pi/180\n",
        " K=math.cos(D)\n",
        " print(K)\n",
        "elif B==9:\n",
        " D=int(input(\"Ingresa el número para hallar su tangente: \"))\n",
        " D=D*math.pi/180\n",
        " K=math.tan(D)\n",
        " print(K)  \n",
        "elif B==10:\n",
        " D=int(input(\"Ingresa el número para hallar su raiz cuadrada: \"))\n",
        " raiz=math.sqrt(D)\n",
        " print(raiz)\n",
        "\n",
        "else:\n",
        " print(\"SYNTAX ERROR\")"
      ]
    }
  ]
}