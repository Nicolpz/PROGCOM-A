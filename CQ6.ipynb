{
  "nbformat": 4,
  "nbformat_minor": 0,
  "metadata": {
    "colab": {
      "provenance": [],
      "collapsed_sections": []
    },
    "kernelspec": {
      "name": "python3",
      "display_name": "Python 3"
    },
    "language_info": {
      "name": "python"
    }
  },
  "cells": [
    {
      "cell_type": "markdown",
      "source": [
        "#False\n",
        "Una variable booleana es una variable que sólo puede tomar dos posibles valores: True (verdadero) o False (falso).\n",
        "\n",
        "En Python cualquier variable (en general, cualquier objeto) puede considerarse como una variable booleana. En general los elementos nulos o vacíos se consideran False y el resto se consideran True.\n",
        "\n",
        "Para comprobar si un elemento se considera True o False, se puede convertir a su valor booleano mediante la función bool()."
      ],
      "metadata": {
        "id": "XsK-s22AJ4UV"
      }
    },
    {
      "cell_type": "code",
      "source": [
        "bool(0)\n",
        "bool(0.0)\n",
        "bool(\"\")\n",
        "bool(None)\n",
        "bool(())\n",
        "bool([])\n",
        "bool({})"
      ],
      "metadata": {
        "colab": {
          "base_uri": "https://localhost:8080/"
        },
        "id": "w-YYz7l1MBdJ",
        "outputId": "67cc9abe-920a-4d35-c940-7e919143b43f"
      },
      "execution_count": 2,
      "outputs": [
        {
          "output_type": "execute_result",
          "data": {
            "text/plain": [
              "False"
            ]
          },
          "metadata": {},
          "execution_count": 2
        }
      ]
    },
    {
      "cell_type": "markdown",
      "source": [
        "#None\n",
        "La palabra clave None se utiliza para definir un valor nulo o ningún valor. None no es lo mismo que 0, Falso o una cadena vacía. None es un tipo de datos propio (NoneType) y solo None puede ser None."
      ],
      "metadata": {
        "id": "2OEuE1hdJ9EZ"
      }
    },
    {
      "cell_type": "code",
      "source": [
        "x = None\n",
        "if x:\n",
        "  print(\"Do you think None is True?\")\n",
        "elif x is False:\n",
        "  print (\"Do you think None is False?\")\n",
        "else:\n",
        "  print(\"None is not True, or False, None is just None...\")\n",
        "  print(x)"
      ],
      "metadata": {
        "colab": {
          "base_uri": "https://localhost:8080/"
        },
        "id": "W_cjrgL9Oeri",
        "outputId": "eae7f40b-f69a-43ad-cb23-0117c2c3ce56"
      },
      "execution_count": 8,
      "outputs": [
        {
          "output_type": "stream",
          "name": "stdout",
          "text": [
            "None is not True, or False, None is just None...\n",
            "None\n"
          ]
        }
      ]
    },
    {
      "cell_type": "markdown",
      "source": [
        "#True\n",
        "Una variable booleana es una variable que sólo puede tomar dos posibles valores: True (verdadero) o False (falso).\n",
        "\n",
        "En Python cualquier variable (en general, cualquier objeto) puede considerarse como una variable booleana. En general los elementos nulos o vacíos se consideran False y el resto se consideran True.\n",
        "\n",
        "Para comprobar si un elemento se considera True o False, se puede convertir a su valor booleano mediante la función bool()."
      ],
      "metadata": {
        "id": "Tb2xt5b1J_hb"
      }
    },
    {
      "cell_type": "code",
      "source": [
        "bool(25)\n",
        "bool(-9.5)\n",
        "bool(\"abc\")\n",
        "bool((1, 2, 3))\n",
        "bool([27, \"octubre\", 1997])\n",
        "bool({27, \"octubre\", 1997})"
      ],
      "metadata": {
        "colab": {
          "base_uri": "https://localhost:8080/"
        },
        "id": "rpvR-UAVMUO_",
        "outputId": "6cb9c2b2-3f8f-4c56-8851-694895cb1f00"
      },
      "execution_count": 3,
      "outputs": [
        {
          "output_type": "execute_result",
          "data": {
            "text/plain": [
              "True"
            ]
          },
          "metadata": {},
          "execution_count": 3
        }
      ]
    },
    {
      "cell_type": "markdown",
      "source": [
        "#And\n",
        "Existen tres operadores lógicos: and, or, y not. La semántica (significado) de estos operadores es similar a sus significados en inglés (en español “y”, “o” y “no”). Por ejemplo, x > 0 and x < 10 es verdadero sólo si x es mayor que 0 y menor que 10."
      ],
      "metadata": {
        "id": "PToIGY9pKBh1"
      }
    },
    {
      "cell_type": "code",
      "source": [
        "x = 5\n",
        "print(x > 3 and x < 10)\n",
        "# Da como resultado True ya que X es mayor que 3 y menor que 10"
      ],
      "metadata": {
        "colab": {
          "base_uri": "https://localhost:8080/"
        },
        "id": "Vc4OUzPoP3wd",
        "outputId": "87776d8b-e62c-4050-cbc6-53d05478f0c3"
      },
      "execution_count": 7,
      "outputs": [
        {
          "output_type": "stream",
          "name": "stdout",
          "text": [
            "True\n"
          ]
        }
      ]
    },
    {
      "cell_type": "markdown",
      "source": [
        "#As\n",
        "La palabra clave as se utiliza para crear un alias. En el ejemplo, creamos un alias, c, al importar el módulo de calendario, y ahora podemos hacer referencia al módulo de calendario usando c en lugar de calendario."
      ],
      "metadata": {
        "id": "oTsQisJGKEQV"
      }
    },
    {
      "cell_type": "code",
      "source": [
        "import calendar as c\n",
        "print(c.month_name[4])\n",
        "import calendar as c\n",
        "print(c.month_name[1])"
      ],
      "metadata": {
        "colab": {
          "base_uri": "https://localhost:8080/"
        },
        "id": "5w-GfZ-5S-7A",
        "outputId": "4a31fd8a-505a-45a4-b25e-6976877a78f2"
      },
      "execution_count": 13,
      "outputs": [
        {
          "output_type": "stream",
          "name": "stdout",
          "text": [
            "April\n",
            "January\n"
          ]
        }
      ]
    },
    {
      "cell_type": "markdown",
      "source": [
        "#Assert\n",
        "La palabra clave assert se usa al depurar código. La palabra clave assert le permite probar si una condición en su código devuelve True, si no, el programa generará un AssertionError. Puede escribir un mensaje para que se escriba si el código devuelve False."
      ],
      "metadata": {
        "id": "-cJbpAzmKFgu"
      }
    },
    {
      "cell_type": "code",
      "source": [
        "x = \"hello\" \n",
        "# Si la condición devuelve True, entonces no pasa nada: \n",
        "assert x == \"hello\" \n",
        "# Si la condición devuelve False, se genera AssertionError: \n",
        "assert  x == \"goodbye\""
      ],
      "metadata": {
        "colab": {
          "base_uri": "https://localhost:8080/",
          "height": 200
        },
        "id": "hm2sokzTUoTH",
        "outputId": "c5da74b0-2cf8-485b-9a84-fff9410bcf23"
      },
      "execution_count": 25,
      "outputs": [
        {
          "output_type": "error",
          "ename": "AssertionError",
          "evalue": "ignored",
          "traceback": [
            "\u001b[0;31m---------------------------------------------------------------------------\u001b[0m",
            "\u001b[0;31mAssertionError\u001b[0m                            Traceback (most recent call last)",
            "\u001b[0;32m<ipython-input-25-e91df0d7f27c>\u001b[0m in \u001b[0;36m<module>\u001b[0;34m\u001b[0m\n\u001b[1;32m      3\u001b[0m \u001b[0;32massert\u001b[0m \u001b[0mx\u001b[0m \u001b[0;34m==\u001b[0m \u001b[0;34m\"hello\"\u001b[0m\u001b[0;34m\u001b[0m\u001b[0;34m\u001b[0m\u001b[0m\n\u001b[1;32m      4\u001b[0m \u001b[0;31m#si la condición devuelve Falso, se genera AssertionError:\u001b[0m\u001b[0;34m\u001b[0m\u001b[0;34m\u001b[0m\u001b[0;34m\u001b[0m\u001b[0m\n\u001b[0;32m----> 5\u001b[0;31m \u001b[0;32massert\u001b[0m  \u001b[0mx\u001b[0m \u001b[0;34m==\u001b[0m \u001b[0;34m\"goodbye\"\u001b[0m\u001b[0;34m\u001b[0m\u001b[0;34m\u001b[0m\u001b[0m\n\u001b[0m",
            "\u001b[0;31mAssertionError\u001b[0m: "
          ]
        }
      ]
    },
    {
      "cell_type": "markdown",
      "source": [
        "#Break\n",
        "La palabra clave break se utiliza para dividir un bucle for o un bucle while."
      ],
      "metadata": {
        "id": "QYTAX_qHKI32"
      }
    },
    {
      "cell_type": "code",
      "source": [
        "for i in range(9):\n",
        "  if i > 4:\n",
        "    break\n",
        "  print(i)"
      ],
      "metadata": {
        "colab": {
          "base_uri": "https://localhost:8080/"
        },
        "id": "6i1nvyorWKtm",
        "outputId": "affe4b00-7ae9-43d0-d9c7-5f9d94a9984a"
      },
      "execution_count": 29,
      "outputs": [
        {
          "output_type": "stream",
          "name": "stdout",
          "text": [
            "0\n",
            "1\n",
            "2\n",
            "3\n",
            "4\n"
          ]
        }
      ]
    },
    {
      "cell_type": "markdown",
      "source": [
        "#Class\n",
        "La palabra clave class se utiliza para crear una clase. Una clase es como un constructor de objetos. "
      ],
      "metadata": {
        "id": "vmFwG1hbKKia"
      }
    },
    {
      "cell_type": "code",
      "source": [
        "class Person:\n",
        "  name = \"James\"\n",
        "  lastname = \"Bond\"\n",
        "  age = 36\n",
        "print(Person.age)\n",
        "print(Person.lastname)"
      ],
      "metadata": {
        "colab": {
          "base_uri": "https://localhost:8080/"
        },
        "id": "uCWyUK0TWjQg",
        "outputId": "b9ad3e37-23f5-439b-d985-de764fc0757a"
      },
      "execution_count": 31,
      "outputs": [
        {
          "output_type": "stream",
          "name": "stdout",
          "text": [
            "36\n",
            "Bond\n"
          ]
        }
      ]
    },
    {
      "cell_type": "markdown",
      "source": [
        "#Continue\n",
        "La palabra clave continue se usa para finalizar la iteración actual en un bucle for (o un bucle while) y continúa con la siguiente iteración."
      ],
      "metadata": {
        "id": "DOIpxEDNKNP6"
      }
    },
    {
      "cell_type": "code",
      "source": [
        "for i in range(9):\n",
        "  if i == 3:\n",
        "    continue\n",
        "  print(i)"
      ],
      "metadata": {
        "colab": {
          "base_uri": "https://localhost:8080/"
        },
        "id": "iS95hAT3W1Ft",
        "outputId": "14390a56-fc60-4f39-e893-ad6655f9bf1c"
      },
      "execution_count": 32,
      "outputs": [
        {
          "output_type": "stream",
          "name": "stdout",
          "text": [
            "0\n",
            "1\n",
            "2\n",
            "4\n",
            "5\n",
            "6\n",
            "7\n",
            "8\n"
          ]
        }
      ]
    },
    {
      "cell_type": "markdown",
      "source": [
        "#Def\n",
        "La palabra clave def se usa para crear (o definir) una función."
      ],
      "metadata": {
        "id": "1x6MN9RLKOj8"
      }
    },
    {
      "cell_type": "code",
      "source": [
        "def my_function():\n",
        " print(\"Hola desde la función\")\n",
        "my_function()"
      ],
      "metadata": {
        "colab": {
          "base_uri": "https://localhost:8080/"
        },
        "id": "00KCDC6SXC-c",
        "outputId": "9d62489d-728d-47d6-d25d-50c6ffaa72bb"
      },
      "execution_count": 34,
      "outputs": [
        {
          "output_type": "stream",
          "name": "stdout",
          "text": [
            "Hola desde la función\n"
          ]
        }
      ]
    },
    {
      "cell_type": "markdown",
      "source": [
        "#Del\n",
        "La palabra clave del se utiliza para eliminar objetos. En Python, todo es un objeto, por lo que la palabra clave del también se puede usar para eliminar variables, listas o partes de una lista, etc."
      ],
      "metadata": {
        "id": "TF5ImZlxKQ8-"
      }
    },
    {
      "cell_type": "code",
      "source": [
        "x = \"hello\"\n",
        "y = \"goodbye\"\n",
        "del x\n",
        "print(x, y)"
      ],
      "metadata": {
        "colab": {
          "base_uri": "https://localhost:8080/",
          "height": 200
        },
        "id": "EXozDRX2XUSF",
        "outputId": "3f5cd278-2eac-44e1-d10c-b22ff7882e8b"
      },
      "execution_count": 35,
      "outputs": [
        {
          "output_type": "error",
          "ename": "NameError",
          "evalue": "ignored",
          "traceback": [
            "\u001b[0;31m---------------------------------------------------------------------------\u001b[0m",
            "\u001b[0;31mNameError\u001b[0m                                 Traceback (most recent call last)",
            "\u001b[0;32m<ipython-input-35-9e12128e043a>\u001b[0m in \u001b[0;36m<module>\u001b[0;34m\u001b[0m\n\u001b[1;32m      2\u001b[0m \u001b[0my\u001b[0m \u001b[0;34m=\u001b[0m \u001b[0;34m\"goodbye\"\u001b[0m\u001b[0;34m\u001b[0m\u001b[0;34m\u001b[0m\u001b[0m\n\u001b[1;32m      3\u001b[0m \u001b[0;32mdel\u001b[0m \u001b[0mx\u001b[0m\u001b[0;34m\u001b[0m\u001b[0;34m\u001b[0m\u001b[0m\n\u001b[0;32m----> 4\u001b[0;31m \u001b[0mprint\u001b[0m\u001b[0;34m(\u001b[0m\u001b[0mx\u001b[0m\u001b[0;34m,\u001b[0m \u001b[0my\u001b[0m\u001b[0;34m)\u001b[0m\u001b[0;34m\u001b[0m\u001b[0;34m\u001b[0m\u001b[0m\n\u001b[0m",
            "\u001b[0;31mNameError\u001b[0m: name 'x' is not defined"
          ]
        }
      ]
    },
    {
      "cell_type": "markdown",
      "source": [
        "#Elif\n",
        "La palabra clave elif se usa en sentencias condicionales (si sentencias), y es la abreviatura de else if."
      ],
      "metadata": {
        "id": "NjZ6YeZHKR-y"
      }
    },
    {
      "cell_type": "code",
      "source": [
        "for i in range(-5, 5):\n",
        "  if i > 0:\n",
        "    print(\"YES\")\n",
        "  elif i == 0:\n",
        "    print(\"WHATEVER\")\n",
        "  else:\n",
        "    print(\"NO\")"
      ],
      "metadata": {
        "colab": {
          "base_uri": "https://localhost:8080/"
        },
        "id": "8Bgyk33XX8QO",
        "outputId": "d1e91e7f-93da-44d9-8eab-c66b42cf226f"
      },
      "execution_count": 36,
      "outputs": [
        {
          "output_type": "stream",
          "name": "stdout",
          "text": [
            "NO\n",
            "NO\n",
            "NO\n",
            "NO\n",
            "NO\n",
            "WHATEVER\n",
            "YES\n",
            "YES\n",
            "YES\n",
            "YES\n"
          ]
        }
      ]
    },
    {
      "cell_type": "markdown",
      "source": [
        "#Else\n",
        "La palabra clave else se usa en declaraciones condicionales (si declaraciones) y decide qué hacer si la condición es falsa. La palabra clave else también se puede usar en try...except blocks."
      ],
      "metadata": {
        "id": "YlDfqm3rKTqk"
      }
    },
    {
      "cell_type": "code",
      "source": [
        "for i in range(-5, 5):\n",
        "  if i > 0:\n",
        "    print(\"YES\")\n",
        "  elif i == 0:\n",
        "    print(\"WHATEVER\")\n",
        "  else:\n",
        "    print(\"NO\")"
      ],
      "metadata": {
        "colab": {
          "base_uri": "https://localhost:8080/"
        },
        "id": "2XSiOeALYe6b",
        "outputId": "4685a931-9da7-4e18-97c4-462b0571453b"
      },
      "execution_count": 41,
      "outputs": [
        {
          "output_type": "stream",
          "name": "stdout",
          "text": [
            "NO\n",
            "NO\n",
            "NO\n",
            "NO\n",
            "NO\n",
            "WHATEVER\n",
            "YES\n",
            "YES\n",
            "YES\n",
            "YES\n"
          ]
        }
      ]
    },
    {
      "cell_type": "markdown",
      "source": [
        "#Except\n",
        "La palabra clave except se usa en los bloques try...except. Define un bloque de código para ejecutar si el bloque de prueba genera un error. Puede definir diferentes bloques para diferentes tipos de error y bloques para ejecutar si nada salió mal."
      ],
      "metadata": {
        "id": "aqUj7A-hKUia"
      }
    },
    {
      "cell_type": "code",
      "source": [
        "try:\n",
        "  x > 3\n",
        "except:\n",
        "  print(\"Algo salió mal\")\n",
        "print(\"Incluso si hay un error el programa se sigue ejecutando\")"
      ],
      "metadata": {
        "colab": {
          "base_uri": "https://localhost:8080/"
        },
        "id": "YZQ-3j1fY_nY",
        "outputId": "8763c5b4-22c4-4708-b7df-75a1b3d6ad1f"
      },
      "execution_count": 43,
      "outputs": [
        {
          "output_type": "stream",
          "name": "stdout",
          "text": [
            "Algo salió mal\n",
            "Incluso si hay un error el programa se sigue ejecutando\n"
          ]
        }
      ]
    },
    {
      "cell_type": "markdown",
      "source": [
        "#Finally\n",
        "La palabra clave finally se usa en try...except blocks. Define un bloque de código para ejecutar cuando el bloque try...except...else es definitivo. El bloque \"finally\" se ejecutará sin importar si el bloque \"try\" genera un error o no. Esto puede ser útil para cerrar objetos y limpiar recursos."
      ],
      "metadata": {
        "id": "C3_Zxig-KXBw"
      }
    },
    {
      "cell_type": "code",
      "source": [
        "try:\n",
        "  x > 3\n",
        "except:\n",
        "  print(\"Algo salió mal\")\n",
        "else:\n",
        "  print(\"Nada salió mal\")\n",
        "finally:\n",
        "  print(\"El código al fin terminó\")"
      ],
      "metadata": {
        "colab": {
          "base_uri": "https://localhost:8080/"
        },
        "id": "LQP0sCZNZYwB",
        "outputId": "d5e5bfc4-341c-4ae8-c35c-24485c344aa4"
      },
      "execution_count": 44,
      "outputs": [
        {
          "output_type": "stream",
          "name": "stdout",
          "text": [
            "Algo salió mal\n",
            "El código al fin terminó\n"
          ]
        }
      ]
    },
    {
      "cell_type": "markdown",
      "source": [
        "#For\n",
        "La palabra clave for se utiliza para crear un bucle for. Se puede usar para iterar a través de una secuencia, como una lista, una tupla, etc."
      ],
      "metadata": {
        "id": "tmbSAbxnKa5c"
      }
    },
    {
      "cell_type": "code",
      "source": [
        "for x in range(1, 9):\n",
        "  print(x)"
      ],
      "metadata": {
        "colab": {
          "base_uri": "https://localhost:8080/"
        },
        "id": "7HZ2fnwrZ012",
        "outputId": "87d46a8b-7e45-46a6-f09e-d028bf58c0ed"
      },
      "execution_count": 45,
      "outputs": [
        {
          "output_type": "stream",
          "name": "stdout",
          "text": [
            "1\n",
            "2\n",
            "3\n",
            "4\n",
            "5\n",
            "6\n",
            "7\n",
            "8\n"
          ]
        }
      ]
    },
    {
      "cell_type": "markdown",
      "source": [
        "#From\n",
        "La palabra clave from se usa para importar solo una sección específica de un módulo. Ejemplo Importe solo la sección de hora del módulo de fecha y hora e imprima la hora como si fueran las 15:00:"
      ],
      "metadata": {
        "id": "jv6kWxc2KZNX"
      }
    },
    {
      "cell_type": "code",
      "source": [
        "from datetime import time\n",
        "x = time(hour=15)\n",
        "print(x)"
      ],
      "metadata": {
        "colab": {
          "base_uri": "https://localhost:8080/"
        },
        "id": "ZGFAqjhaUEDB",
        "outputId": "b2f384ed-6d0d-47f8-94be-17a1dd03d433"
      },
      "execution_count": 16,
      "outputs": [
        {
          "output_type": "stream",
          "name": "stdout",
          "text": [
            "15:00:00\n"
          ]
        }
      ]
    },
    {
      "cell_type": "markdown",
      "source": [
        "#Global\n",
        "La palabra clave global se utiliza para crear variables globales desde un ámbito no global, p. dentro de una función."
      ],
      "metadata": {
        "id": "dP9H0mEWKdcK"
      }
    },
    {
      "cell_type": "code",
      "source": [
        "#crear una función:\n",
        "def myfunction():\n",
        "  global x\n",
        "  x = \"hello\"\n",
        "#ejecutar la función:\n",
        "myfunction()\n",
        "#x ahora debería ser global y accesible en el ámbito global.\n",
        "print(x)"
      ],
      "metadata": {
        "colab": {
          "base_uri": "https://localhost:8080/"
        },
        "id": "L0dr5lfZaXr6",
        "outputId": "2d5ab318-9130-41fb-c0d0-8752d7b4f0f1"
      },
      "execution_count": 46,
      "outputs": [
        {
          "output_type": "stream",
          "name": "stdout",
          "text": [
            "hello\n"
          ]
        }
      ]
    },
    {
      "cell_type": "markdown",
      "source": [
        "#If\n",
        "La palabra clave if se usa para crear declaraciones condicionales (si declaraciones) y le permite ejecutar un bloque de código solo si una condición es verdadera. Use la palabra clave else para ejecutar el código si la condición es falsa."
      ],
      "metadata": {
        "id": "7IJBqpTYKedj"
      }
    },
    {
      "cell_type": "code",
      "source": [
        "for i in range(-5, 5):\n",
        "  if i > 0:\n",
        "    print(\"YES\")\n",
        "  elif i == 0:\n",
        "    print(\"WHATEVER\")\n",
        "  else:\n",
        "    print(\"NO\")"
      ],
      "metadata": {
        "colab": {
          "base_uri": "https://localhost:8080/"
        },
        "id": "xAeBHQG_ao48",
        "outputId": "79f5bec7-7dfd-4d44-bc40-502731d1f370"
      },
      "execution_count": 47,
      "outputs": [
        {
          "output_type": "stream",
          "name": "stdout",
          "text": [
            "NO\n",
            "NO\n",
            "NO\n",
            "NO\n",
            "NO\n",
            "WHATEVER\n",
            "YES\n",
            "YES\n",
            "YES\n",
            "YES\n"
          ]
        }
      ]
    },
    {
      "cell_type": "markdown",
      "source": [
        "#Import\n",
        "La palabra clave import se utiliza para importar módulos.\n",
        "Ejemplo Importe el módulo de fecha y hora y muestre la fecha y hora actuales:"
      ],
      "metadata": {
        "id": "siRsoOz7KgIA"
      }
    },
    {
      "cell_type": "code",
      "source": [
        "import datetime\n",
        "x = datetime.datetime.now()\n",
        "print(x)\n",
        "# Se supone que debería dar la fecha y la hora exacta pero se adelanta un poco y no sé como arreglar eso"
      ],
      "metadata": {
        "colab": {
          "base_uri": "https://localhost:8080/"
        },
        "id": "zkh31fisTipP",
        "outputId": "66a3a98c-cee0-43d5-83ed-0d2fcce5c2f4"
      },
      "execution_count": 20,
      "outputs": [
        {
          "output_type": "stream",
          "name": "stdout",
          "text": [
            "2022-09-15 04:04:17.361282\n"
          ]
        }
      ]
    },
    {
      "cell_type": "markdown",
      "source": [
        "#In\n",
        "Devuelve True si una secuencia con el valor especificado está presente en el objeto"
      ],
      "metadata": {
        "id": "suzrUo7mKhGs"
      }
    },
    {
      "cell_type": "code",
      "source": [
        "x = [\"apple\", \"banana\"]\n",
        "print(\"banana\" in x)\n",
        "# Devuelve True porque una secuencia con el valor \"banana\" está en la lista"
      ],
      "metadata": {
        "colab": {
          "base_uri": "https://localhost:8080/"
        },
        "id": "XnhClAvxRkTf",
        "outputId": "de2863b8-2446-4bc8-911e-025fea2f2809"
      },
      "execution_count": 12,
      "outputs": [
        {
          "output_type": "stream",
          "name": "stdout",
          "text": [
            "True\n"
          ]
        }
      ]
    },
    {
      "cell_type": "markdown",
      "source": [
        "#Is\n",
        "Devuelve True si ambas variables son el mismo objeto"
      ],
      "metadata": {
        "id": "g8dESAwHKi7a"
      }
    },
    {
      "cell_type": "code",
      "source": [
        "x = [\"apple\", \"banana\"]\n",
        "y = [\"apple\", \"banana\"]\n",
        "z = x\n",
        "print(x is z)\n",
        "# Devuelve True porque z es el mismo objeto que x\n",
        "print(x is y)\n",
        "# Devuelve False porque x no es el mismo objeto que y, incluso si tienen el mismo contenido\n",
        "print(x == y)\n",
        "# Para demostrar la diferencia entre \"Is\" y \"==\": esta comparación devuelve True porque x es igual a y"
      ],
      "metadata": {
        "colab": {
          "base_uri": "https://localhost:8080/"
        },
        "id": "-vSkMLCcQ0Zk",
        "outputId": "a1adaeb3-6291-4855-de96-372c5f988023"
      },
      "execution_count": 11,
      "outputs": [
        {
          "output_type": "stream",
          "name": "stdout",
          "text": [
            "True\n",
            "False\n",
            "True\n"
          ]
        }
      ]
    },
    {
      "cell_type": "markdown",
      "source": [
        "#Lambda\n",
        "La palabra clave lambda se usa para crear pequeñas funciones anónimas. Una función lambda puede tomar cualquier cantidad de argumentos, pero solo puede tener una expresión. La expresión se evalúa y se devuelve el resultado."
      ],
      "metadata": {
        "id": "q5bl2B2qKjyY"
      }
    },
    {
      "cell_type": "code",
      "source": [
        "x = lambda a, b, c : a + b + c\n",
        "print(x(5, 6, 3))"
      ],
      "metadata": {
        "colab": {
          "base_uri": "https://localhost:8080/"
        },
        "id": "PVZ_R7Pia9ee",
        "outputId": "c8afc43d-2077-4f07-fa70-d0ee5037bad4"
      },
      "execution_count": 49,
      "outputs": [
        {
          "output_type": "stream",
          "name": "stdout",
          "text": [
            "14\n"
          ]
        }
      ]
    },
    {
      "cell_type": "markdown",
      "source": [
        "#Nonlocal\n",
        "La palabra clave nonlocal se usa para trabajar con variables dentro de funciones anidadas, donde la variable no debe pertenecer a la función interna. Utilice la palabra clave nonlocal para declarar que la variable no es local."
      ],
      "metadata": {
        "id": "AOgxW7fsKlD8"
      }
    },
    {
      "cell_type": "code",
      "source": [
        "def myfunc1():\n",
        "  x = \"John\"\n",
        "  def myfunc2():\n",
        "    nonlocal x\n",
        "    x = \"hello\"\n",
        "  myfunc2() \n",
        "  return x\n",
        "print(myfunc1())\n",
        "# Con nonlocal para demostrar como funciona"
      ],
      "metadata": {
        "colab": {
          "base_uri": "https://localhost:8080/"
        },
        "id": "bAKeLux8bK-K",
        "outputId": "27803454-418a-47c6-8592-88affcb0738b"
      },
      "execution_count": 50,
      "outputs": [
        {
          "output_type": "stream",
          "name": "stdout",
          "text": [
            "hello\n"
          ]
        }
      ]
    },
    {
      "cell_type": "code",
      "source": [
        "def myfunc1():\n",
        "  x = \"John\"\n",
        "  def myfunc2():\n",
        "    x = \"hello\"\n",
        "  myfunc2() \n",
        "  return x\n",
        "print(myfunc1())\n",
        "# Sin nonlocal para demostrar como funciona"
      ],
      "metadata": {
        "colab": {
          "base_uri": "https://localhost:8080/"
        },
        "id": "Aq1NZVqUbYRn",
        "outputId": "b64e2e4a-20ec-47b7-edbf-2ad38f6e1bd9"
      },
      "execution_count": 51,
      "outputs": [
        {
          "output_type": "stream",
          "name": "stdout",
          "text": [
            "John\n"
          ]
        }
      ]
    },
    {
      "cell_type": "markdown",
      "source": [
        "#Not\n",
        "xisten tres operadores lógicos: and, or, y not. La semántica (significado) de estos operadores es similar a sus significados en inglés (en español “y”, “o” y “no”). El operador not niega una expresión booleana, de forma que not(x > y) es verdadero si (x > y) es falso, o sea, si x es menor o igual que y."
      ],
      "metadata": {
        "id": "OkY8QwRxKp6l"
      }
    },
    {
      "cell_type": "code",
      "source": [
        "x = 5\n",
        "print(not(x > 3 and x < 10))\n",
        "# Devuelve False porque not se usa para invertir el resultado"
      ],
      "metadata": {
        "colab": {
          "base_uri": "https://localhost:8080/"
        },
        "id": "iAJugra0QUmj",
        "outputId": "6cce88da-4710-49bf-b378-ca5d7f25bdc9"
      },
      "execution_count": 10,
      "outputs": [
        {
          "output_type": "stream",
          "name": "stdout",
          "text": [
            "False\n"
          ]
        }
      ]
    },
    {
      "cell_type": "markdown",
      "source": [
        "#Or\n",
        "xisten tres operadores lógicos: and, or, y not. La semántica (significado) de estos operadores es similar a sus significados en inglés (en español “y”, “o” y “no”). Por ejemplo n % 2 == 0 or n % 3 == 0 es verdadero si cualquiera de las condiciones es verdadera, o sea, si el número es divisible por 2 o por 3."
      ],
      "metadata": {
        "id": "ZLxhPQQlKq05"
      }
    },
    {
      "cell_type": "code",
      "source": [
        "x = 5\n",
        "print(x > 3 or x < 4)\n",
        "# Devuelve True porque una de las condiciones es verdadera (5 es mayor que 3, pero 5 no es menor que 4)"
      ],
      "metadata": {
        "colab": {
          "base_uri": "https://localhost:8080/"
        },
        "id": "XVr1ufc1QM1M",
        "outputId": "0e948cd3-6ae6-479f-aad4-b88f114202c0"
      },
      "execution_count": 9,
      "outputs": [
        {
          "output_type": "stream",
          "name": "stdout",
          "text": [
            "True\n"
          ]
        }
      ]
    },
    {
      "cell_type": "markdown",
      "source": [
        "#Pass\n",
        "La declaración de pass se utiliza como marcador de posición para el código futuro. Cuando se ejecuta la declaración de pass, no sucede nada, pero evita obtener un error cuando no se permite el código vacío. El código vacío no está permitido en bucles, definiciones de funciones, definiciones de clases o declaraciones if."
      ],
      "metadata": {
        "id": "z3PaKe8MKtRQ"
      }
    },
    {
      "cell_type": "code",
      "source": [
        "a = 33\n",
        "b = 200\n",
        "if b > a:\n",
        "  pass\n",
        "# tener una instrucción if vacía como esta generaría un error sin la instrucción pass"
      ],
      "metadata": {
        "id": "H3OIA696bw6g"
      },
      "execution_count": 58,
      "outputs": []
    },
    {
      "cell_type": "markdown",
      "source": [
        "#Raise\n",
        "La palabra clave raise se utiliza para generar una excepción. Puede definir qué tipo de error generar y el texto para imprimir al usuario."
      ],
      "metadata": {
        "id": "x7kqoPX0KuJw"
      }
    },
    {
      "cell_type": "code",
      "source": [
        "x = -1\n",
        "if x < 0:\n",
        "  raise Exception(\"Lo siento, no números por debajo de 0\")"
      ],
      "metadata": {
        "colab": {
          "base_uri": "https://localhost:8080/",
          "height": 200
        },
        "id": "BCuxWM5pcW_4",
        "outputId": "332afe69-3b06-4761-c8a5-17d85d1ab325"
      },
      "execution_count": 61,
      "outputs": [
        {
          "output_type": "error",
          "ename": "Exception",
          "evalue": "ignored",
          "traceback": [
            "\u001b[0;31m---------------------------------------------------------------------------\u001b[0m",
            "\u001b[0;31mException\u001b[0m                                 Traceback (most recent call last)",
            "\u001b[0;32m<ipython-input-61-3f738f14527d>\u001b[0m in \u001b[0;36m<module>\u001b[0;34m\u001b[0m\n\u001b[1;32m      1\u001b[0m \u001b[0mx\u001b[0m \u001b[0;34m=\u001b[0m \u001b[0;34m-\u001b[0m\u001b[0;36m1\u001b[0m\u001b[0;34m\u001b[0m\u001b[0;34m\u001b[0m\u001b[0m\n\u001b[1;32m      2\u001b[0m \u001b[0;32mif\u001b[0m \u001b[0mx\u001b[0m \u001b[0;34m<\u001b[0m \u001b[0;36m0\u001b[0m\u001b[0;34m:\u001b[0m\u001b[0;34m\u001b[0m\u001b[0;34m\u001b[0m\u001b[0m\n\u001b[0;32m----> 3\u001b[0;31m   \u001b[0;32mraise\u001b[0m \u001b[0mException\u001b[0m\u001b[0;34m(\u001b[0m\u001b[0;34m\"Lo siento, no números por debajo de 0\"\u001b[0m\u001b[0;34m)\u001b[0m\u001b[0;34m\u001b[0m\u001b[0;34m\u001b[0m\u001b[0m\n\u001b[0m",
            "\u001b[0;31mException\u001b[0m: Lo siento, no números por debajo de 0"
          ]
        }
      ]
    },
    {
      "cell_type": "markdown",
      "source": [
        "#Return\n",
        "La palabra clave de resturn es para salir de una función y devolver un valor."
      ],
      "metadata": {
        "id": "-v1_GvdzKwx2"
      }
    },
    {
      "cell_type": "code",
      "source": [
        "def myfunction():\n",
        "  return 3+3\n",
        "  print(\"Hello, World!\")\n",
        "print(myfunction())"
      ],
      "metadata": {
        "colab": {
          "base_uri": "https://localhost:8080/"
        },
        "id": "hvUhVzeCcs1B",
        "outputId": "d13f42c1-4838-4b97-e3be-363b5794c6fa"
      },
      "execution_count": 62,
      "outputs": [
        {
          "output_type": "stream",
          "name": "stdout",
          "text": [
            "6\n"
          ]
        }
      ]
    },
    {
      "cell_type": "markdown",
      "source": [
        "#Try\n",
        "La palabra clave try se usa en try...except blocks. Define un bloque de prueba de código si contiene algún error. Puede definir diferentes bloques para diferentes tipos de error y bloques para ejecutar si nada salió mal."
      ],
      "metadata": {
        "id": "c3eUHscZKx2L"
      }
    },
    {
      "cell_type": "code",
      "source": [
        "try: \n",
        "  x > 3 \n",
        "except: \n",
        "  raise Exception(\"Algo salió mal\") \n",
        "print(\"El programa se detiene cuando se genera un error\")"
      ],
      "metadata": {
        "colab": {
          "base_uri": "https://localhost:8080/"
        },
        "id": "1GjA4CDfdCyI",
        "outputId": "c7c25bd0-b5cc-46d0-d914-a8e5190a8cee"
      },
      "execution_count": 64,
      "outputs": [
        {
          "output_type": "stream",
          "name": "stdout",
          "text": [
            "El programa se detiene cuando se genera un error\n"
          ]
        }
      ]
    },
    {
      "cell_type": "markdown",
      "source": [
        "#While\n",
        "La palabra clave while se utiliza para crear un bucle while. Un ciclo while continuará hasta que la declaración sea falsa."
      ],
      "metadata": {
        "id": "35shgBl3KzWx"
      }
    },
    {
      "cell_type": "code",
      "source": [
        "x = 0\n",
        "while x < 9:\n",
        "  print(x)\n",
        "  x = x + 1"
      ],
      "metadata": {
        "colab": {
          "base_uri": "https://localhost:8080/"
        },
        "id": "R6IHP_M-dljd",
        "outputId": "35ea4cda-2325-48b7-e2a6-aa9d0dd99525"
      },
      "execution_count": 66,
      "outputs": [
        {
          "output_type": "stream",
          "name": "stdout",
          "text": [
            "0\n",
            "1\n",
            "2\n",
            "3\n",
            "4\n",
            "5\n",
            "6\n",
            "7\n",
            "8\n"
          ]
        }
      ]
    },
    {
      "cell_type": "markdown",
      "source": [
        "#With\n",
        "Puede usar la siguiente sintaxis para abrir un archivo en Python, hacer algo con él y luego cerrar el archivo:"
      ],
      "metadata": {
        "id": "AgQncsZTK0XJ"
      }
    },
    {
      "cell_type": "code",
      "source": [
        "file = open('my_data.csv')\n",
        "df = file.read()\n",
        "print(df)\n",
        "file.close()"
      ],
      "metadata": {
        "colab": {
          "base_uri": "https://localhost:8080/",
          "height": 217
        },
        "id": "80CZOMvTeevD",
        "outputId": "69bbd11e-afa2-4153-ce11-ff3a79f21b45"
      },
      "execution_count": 70,
      "outputs": [
        {
          "output_type": "error",
          "ename": "FileNotFoundError",
          "evalue": "ignored",
          "traceback": [
            "\u001b[0;31m---------------------------------------------------------------------------\u001b[0m",
            "\u001b[0;31mFileNotFoundError\u001b[0m                         Traceback (most recent call last)",
            "\u001b[0;32m<ipython-input-70-6cbbad708450>\u001b[0m in \u001b[0;36m<module>\u001b[0;34m\u001b[0m\n\u001b[0;32m----> 1\u001b[0;31m \u001b[0mfile\u001b[0m \u001b[0;34m=\u001b[0m \u001b[0mopen\u001b[0m\u001b[0;34m(\u001b[0m\u001b[0;34m'my_data.csv'\u001b[0m\u001b[0;34m)\u001b[0m\u001b[0;34m\u001b[0m\u001b[0;34m\u001b[0m\u001b[0m\n\u001b[0m\u001b[1;32m      2\u001b[0m \u001b[0mdf\u001b[0m \u001b[0;34m=\u001b[0m \u001b[0mfile\u001b[0m\u001b[0;34m.\u001b[0m\u001b[0mread\u001b[0m\u001b[0;34m(\u001b[0m\u001b[0;34m)\u001b[0m\u001b[0;34m\u001b[0m\u001b[0;34m\u001b[0m\u001b[0m\n\u001b[1;32m      3\u001b[0m \u001b[0mprint\u001b[0m\u001b[0;34m(\u001b[0m\u001b[0mdf\u001b[0m\u001b[0;34m)\u001b[0m\u001b[0;34m\u001b[0m\u001b[0;34m\u001b[0m\u001b[0m\n\u001b[1;32m      4\u001b[0m \u001b[0mfile\u001b[0m\u001b[0;34m.\u001b[0m\u001b[0mclose\u001b[0m\u001b[0;34m(\u001b[0m\u001b[0;34m)\u001b[0m\u001b[0;34m\u001b[0m\u001b[0;34m\u001b[0m\u001b[0m\n",
            "\u001b[0;31mFileNotFoundError\u001b[0m: [Errno 2] No such file or directory: 'my_data.csv'"
          ]
        }
      ]
    },
    {
      "cell_type": "markdown",
      "source": [
        "#Yield\n",
        "yield es una orden muy similar a un return, con una gran diferencia, yield pausará la ejecución de tu función y guardará el estado de la misma hasta que decidas usarla de nuevo."
      ],
      "metadata": {
        "id": "P0v63cPOK2Br"
      }
    },
    {
      "cell_type": "code",
      "source": [
        "def yield_function(): \n",
        "    yield 10\n",
        "    yield 20\n",
        "    yield 30  \n",
        "for y in yield_function():  \n",
        "    print(y)"
      ],
      "metadata": {
        "colab": {
          "base_uri": "https://localhost:8080/"
        },
        "id": "rBtEK_1ChQ22",
        "outputId": "87c0c544-da84-47a7-b912-f64521e6f508"
      },
      "execution_count": 83,
      "outputs": [
        {
          "output_type": "stream",
          "name": "stdout",
          "text": [
            "10\n",
            "20\n",
            "30\n"
          ]
        }
      ]
    }
  ]
}